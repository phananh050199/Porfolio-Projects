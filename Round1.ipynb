{
 "cells": [
  {
   "cell_type": "markdown",
   "id": "9fd00afd",
   "metadata": {},
   "source": [
    "<p style=\"text-align:center\">\n",
    "    <a href=\"https://fiinquant.vn/\" target=\"_blank\">\n",
    "    <img src=\"https://fiinquant.vn/img/webLogo.png\">\n",
    "    </a>\n",
    "</p>\n",
    "\n",
    "<h1 align=\"center\"><font size=\"5\">Bài test vòng 1: Phân tích dữ liệu chứng khoán của mã cổ phiếu ACB </font></h1>\n"
   ]
  },
  {
   "cell_type": "markdown",
   "id": "d66c4314",
   "metadata": {},
   "source": [
    "<h2>Mục lục</h2>\n",
    "<div class=\"alert alert-block alert-info\" style=\"margin-top: 20px\">\n",
    "    <ul>\n",
    "    <li><a href=\"#Đề-bài\">Đề bài</a></li>\n",
    "    <li><a href=\"#Về-bộ-dữ-liệu\">Về bộ dữ liệu</a></li>\n",
    "    <li><a href=\"#Phần-1:-Phân-tích-và-trực-quan-dữ-liệu-cơ-bản\">Phần 1: Phân tích và trực quan dữ liệu cơ bản </a></li>\n",
    "    <li><a href=\"#Phần-2:-Phân-tích-nâng-cao\">Phần 2: Phân tích nâng cao</a> </li>\n",
    "    <li><a href=\"#Phần-3:-Phân-tích-kỹ-thuật-chuyên-sâu\">Phần 3: Phân tích kỹ thuật chuyên sâu</a></li>\n",
    "    <li><a href=\"#Phần-4:-Đưa-ra-insight\">Phần 4: Đưa ra insight</a></li>\n",
    "</a></li>\n",
    "</div>\n",
    "<p>Thời gian làm bài: <strong>75 phút</strong></p>\n",
    "</div>\n",
    "\n",
    "<hr>\n"
   ]
  },
  {
   "cell_type": "markdown",
   "id": "b6715857",
   "metadata": {},
   "source": [
    "# Đề bài"
   ]
  },
  {
   "cell_type": "markdown",
   "id": "e57fd220",
   "metadata": {},
   "source": [
    "Trong bài tập này, hãy giả sử bạn là 1 chuyên viên phân tích dữ liệu chứng khoán của FiinGroup. Công ty đang rất quan tâm đến mã cổ phiếu ACB trên thị trường. Bạn được giao nhiệm vụ đưa ra những phân tích chuyên sâu về mã cổ phiếu này để đưa ra những tư vấn cho việc liệu có nên đầu tư vào ACB hay không dựa vào tập dữ liệu về giá mở cửa, giá cao nhất, thấp nhất, đóng cửa, khối lượng giao dịch, mua chủ động, bán chủ động, giá trị bán khối ngoại, giá trị mua khối ngoại, giá trị mua/bán ròng. Nhiệm vụ của bạn là trả lời 10 câu hỏi sau cùng với 2 câu hỏi mở về việc đưa ra insight từ các phân tích.\n",
    "\n",
    "Sau khi bạn hoàn thành bàu thi, hãy chụp và lưu **ảnh chụp màn hình** các kết quả cuối cùng cho bài làm (ví dụ: biểu đồ, bảng, kết quả tính toán, v.v.). Chúng sẽ cần được chia sẻ trong phần Đánh giá ngang hàng sau đây của mô-đun Dự án cuối cùng."
   ]
  },
  {
   "cell_type": "markdown",
   "id": "6e781014",
   "metadata": {},
   "source": [
    "# Về bộ dữ liệu\n",
    "\n",
    "Dữ liệu về giá mở cửa, giá cao nhất, thấp nhất, đóng cửa, khối lượng giao dịch, mua chủ động, bán chủ động, giá trị bán khối ngoại, giá trị mua khối ngoại, giá trị mua/bán ròng của mã cổ phiếu ACB trong khoảng thời gian từ ngày 08/06/2024 đến 06/06/2025. Dữ liệu được lấy từ thư viện FiinQuant, thí sinh có thể tham khảo thư viện FiinQuant tại [đây](https://fiinquant.vn/). Dữ liệu được thay đổi 1 chút nhằm phục vụ kết quả đầu ra của câu hỏi. "
   ]
  },
  {
   "cell_type": "markdown",
   "id": "fc4c3e9c",
   "metadata": {},
   "source": [
    "| Tên thuộc tính| Mô tả                                                                              | Kiểu dữ liệu            |\n",
    "| ------------- | ---------------------------------------------------------------------------------- | ----------------------- |\n",
    "| ticker        | Tên mã                                                                             | str                     |\n",
    "| timestamp     | Thời gian giao dịch                                                                | str                     |\n",
    "| open          | Giá mở cửa                                                                         | float                   |\n",
    "| low           | Giá thấp nhất                                                                      | float                   |\n",
    "| high          | Giá cao nhất                                                                       | float                   |\n",
    "| close         | Giá đóng cửa                                                                       | float                   |\n",
    "| volume        | Khối lượng giao dịch                                                               | int                     |\n",
    "| bu            | Khối lượng mua chủ động                                                            | int                     |\n",
    "| sd            | Khối lượng bán chủ động                                                            | int                     |\n",
    "| fb            | Giá trị mua khối ngoại                                                             | int                     |\n",
    "| fs            | Giá trị bán khối ngoại                                                             | int                     |\n",
    "| fn            | Giá trị mua/bán ròng                                                               | int                     |"
   ]
  },
  {
   "cell_type": "markdown",
   "id": "8ae085c0",
   "metadata": {},
   "source": [
    "# Phần 1: Phân tích và trực quan dữ liệu cơ bản"
   ]
  },
  {
   "cell_type": "markdown",
   "id": "18bf37d3",
   "metadata": {},
   "source": [
    "1. Khám phá dữ liệu cơ bản\n",
    "\n",
    "Nhiệm vụ:\n",
    "\n",
    "Tải data theo đường link đính kèm và hiển thị:\n",
    "\n",
    "- Bảng biểu của tập dữ liệu\n",
    "\n",
    "- Các ngày có trong tập dữ liệu (sắp xếp theo thứ tự tăng dần)\n",
    "\n",
    "- Check xem tập dữ liệu có các giá trị bị trống không"
   ]
  },
  {
   "cell_type": "code",
   "execution_count": 1,
   "id": "1f6cf934",
   "metadata": {},
   "outputs": [
    {
     "data": {
      "text/html": [
       "<div>\n",
       "<style scoped>\n",
       "    .dataframe tbody tr th:only-of-type {\n",
       "        vertical-align: middle;\n",
       "    }\n",
       "\n",
       "    .dataframe tbody tr th {\n",
       "        vertical-align: top;\n",
       "    }\n",
       "\n",
       "    .dataframe thead th {\n",
       "        text-align: right;\n",
       "    }\n",
       "</style>\n",
       "<table border=\"1\" class=\"dataframe\">\n",
       "  <thead>\n",
       "    <tr style=\"text-align: right;\">\n",
       "      <th></th>\n",
       "      <th>ticker</th>\n",
       "      <th>timestamp</th>\n",
       "      <th>open</th>\n",
       "      <th>high</th>\n",
       "      <th>low</th>\n",
       "      <th>close</th>\n",
       "      <th>volume</th>\n",
       "      <th>bu</th>\n",
       "      <th>sd</th>\n",
       "      <th>fb</th>\n",
       "      <th>fs</th>\n",
       "      <th>fn</th>\n",
       "    </tr>\n",
       "  </thead>\n",
       "  <tbody>\n",
       "    <tr>\n",
       "      <th>0</th>\n",
       "      <td>ACB</td>\n",
       "      <td>2024-06-10 00:00</td>\n",
       "      <td>20553.300</td>\n",
       "      <td>20636.850</td>\n",
       "      <td>20302.65</td>\n",
       "      <td>20386.200</td>\n",
       "      <td>7679882.0</td>\n",
       "      <td>2400400.0</td>\n",
       "      <td>4882700.0</td>\n",
       "      <td>3.981820e+10</td>\n",
       "      <td>3.981820e+10</td>\n",
       "      <td>0.000000e+00</td>\n",
       "    </tr>\n",
       "    <tr>\n",
       "      <th>1</th>\n",
       "      <td>ACB</td>\n",
       "      <td>2024-06-11 00:00</td>\n",
       "      <td>20386.200</td>\n",
       "      <td>20427.975</td>\n",
       "      <td>20135.55</td>\n",
       "      <td>20177.325</td>\n",
       "      <td>9213280.0</td>\n",
       "      <td>3081700.0</td>\n",
       "      <td>5381200.0</td>\n",
       "      <td>2.871000e+10</td>\n",
       "      <td>2.871000e+10</td>\n",
       "      <td>0.000000e+00</td>\n",
       "    </tr>\n",
       "    <tr>\n",
       "      <th>2</th>\n",
       "      <td>ACB</td>\n",
       "      <td>2024-06-12 00:00</td>\n",
       "      <td>20177.325</td>\n",
       "      <td>20511.525</td>\n",
       "      <td>19968.45</td>\n",
       "      <td>20511.525</td>\n",
       "      <td>10400953.0</td>\n",
       "      <td>5141500.0</td>\n",
       "      <td>4463600.0</td>\n",
       "      <td>3.356064e+10</td>\n",
       "      <td>3.356064e+10</td>\n",
       "      <td>0.000000e+00</td>\n",
       "    </tr>\n",
       "    <tr>\n",
       "      <th>3</th>\n",
       "      <td>ACB</td>\n",
       "      <td>2024-06-13 00:00</td>\n",
       "      <td>20511.525</td>\n",
       "      <td>20803.950</td>\n",
       "      <td>20386.20</td>\n",
       "      <td>20720.400</td>\n",
       "      <td>11727801.0</td>\n",
       "      <td>6159800.0</td>\n",
       "      <td>4634400.0</td>\n",
       "      <td>3.420112e+10</td>\n",
       "      <td>3.420112e+10</td>\n",
       "      <td>0.000000e+00</td>\n",
       "    </tr>\n",
       "    <tr>\n",
       "      <th>4</th>\n",
       "      <td>ACB</td>\n",
       "      <td>2024-06-14 00:00</td>\n",
       "      <td>20636.850</td>\n",
       "      <td>20803.950</td>\n",
       "      <td>20553.30</td>\n",
       "      <td>20553.300</td>\n",
       "      <td>11049165.0</td>\n",
       "      <td>4244800.0</td>\n",
       "      <td>5013500.0</td>\n",
       "      <td>3.895500e+09</td>\n",
       "      <td>3.895500e+09</td>\n",
       "      <td>0.000000e+00</td>\n",
       "    </tr>\n",
       "    <tr>\n",
       "      <th>...</th>\n",
       "      <td>...</td>\n",
       "      <td>...</td>\n",
       "      <td>...</td>\n",
       "      <td>...</td>\n",
       "      <td>...</td>\n",
       "      <td>...</td>\n",
       "      <td>...</td>\n",
       "      <td>...</td>\n",
       "      <td>...</td>\n",
       "      <td>...</td>\n",
       "      <td>...</td>\n",
       "      <td>...</td>\n",
       "    </tr>\n",
       "    <tr>\n",
       "      <th>243</th>\n",
       "      <td>ACB</td>\n",
       "      <td>2025-06-02 00:00</td>\n",
       "      <td>21100.000</td>\n",
       "      <td>21200.000</td>\n",
       "      <td>21000.00</td>\n",
       "      <td>21100.000</td>\n",
       "      <td>8200572.0</td>\n",
       "      <td>3693100.0</td>\n",
       "      <td>3641900.0</td>\n",
       "      <td>2.901168e+10</td>\n",
       "      <td>5.386177e+10</td>\n",
       "      <td>-2.485009e+10</td>\n",
       "    </tr>\n",
       "    <tr>\n",
       "      <th>244</th>\n",
       "      <td>ACB</td>\n",
       "      <td>2025-06-03 00:00</td>\n",
       "      <td>21150.000</td>\n",
       "      <td>21300.000</td>\n",
       "      <td>21150.00</td>\n",
       "      <td>21250.000</td>\n",
       "      <td>7288890.0</td>\n",
       "      <td>2744300.0</td>\n",
       "      <td>3856100.0</td>\n",
       "      <td>5.270865e+10</td>\n",
       "      <td>3.078370e+10</td>\n",
       "      <td>2.192496e+10</td>\n",
       "    </tr>\n",
       "    <tr>\n",
       "      <th>245</th>\n",
       "      <td>ACB</td>\n",
       "      <td>2025-06-04 00:00</td>\n",
       "      <td>21300.000</td>\n",
       "      <td>21350.000</td>\n",
       "      <td>21100.00</td>\n",
       "      <td>21100.000</td>\n",
       "      <td>5699110.0</td>\n",
       "      <td>1407000.0</td>\n",
       "      <td>3440100.0</td>\n",
       "      <td>3.225213e+10</td>\n",
       "      <td>5.421456e+10</td>\n",
       "      <td>-2.196243e+10</td>\n",
       "    </tr>\n",
       "    <tr>\n",
       "      <th>246</th>\n",
       "      <td>ACB</td>\n",
       "      <td>2025-06-05 00:00</td>\n",
       "      <td>21150.000</td>\n",
       "      <td>21200.000</td>\n",
       "      <td>21000.00</td>\n",
       "      <td>21000.000</td>\n",
       "      <td>5332029.0</td>\n",
       "      <td>1687900.0</td>\n",
       "      <td>3380000.0</td>\n",
       "      <td>1.390215e+09</td>\n",
       "      <td>1.690492e+10</td>\n",
       "      <td>-1.551471e+10</td>\n",
       "    </tr>\n",
       "    <tr>\n",
       "      <th>247</th>\n",
       "      <td>ACB</td>\n",
       "      <td>2025-06-06 00:00</td>\n",
       "      <td>21050.000</td>\n",
       "      <td>21200.000</td>\n",
       "      <td>21000.00</td>\n",
       "      <td>21000.000</td>\n",
       "      <td>6801445.0</td>\n",
       "      <td>2613800.0</td>\n",
       "      <td>3765700.0</td>\n",
       "      <td>5.933401e+10</td>\n",
       "      <td>5.059046e+10</td>\n",
       "      <td>8.743541e+09</td>\n",
       "    </tr>\n",
       "  </tbody>\n",
       "</table>\n",
       "<p>248 rows × 12 columns</p>\n",
       "</div>"
      ],
      "text/plain": [
       "    ticker         timestamp       open       high       low      close  \\\n",
       "0      ACB  2024-06-10 00:00  20553.300  20636.850  20302.65  20386.200   \n",
       "1      ACB  2024-06-11 00:00  20386.200  20427.975  20135.55  20177.325   \n",
       "2      ACB  2024-06-12 00:00  20177.325  20511.525  19968.45  20511.525   \n",
       "3      ACB  2024-06-13 00:00  20511.525  20803.950  20386.20  20720.400   \n",
       "4      ACB  2024-06-14 00:00  20636.850  20803.950  20553.30  20553.300   \n",
       "..     ...               ...        ...        ...       ...        ...   \n",
       "243    ACB  2025-06-02 00:00  21100.000  21200.000  21000.00  21100.000   \n",
       "244    ACB  2025-06-03 00:00  21150.000  21300.000  21150.00  21250.000   \n",
       "245    ACB  2025-06-04 00:00  21300.000  21350.000  21100.00  21100.000   \n",
       "246    ACB  2025-06-05 00:00  21150.000  21200.000  21000.00  21000.000   \n",
       "247    ACB  2025-06-06 00:00  21050.000  21200.000  21000.00  21000.000   \n",
       "\n",
       "         volume         bu         sd            fb            fs  \\\n",
       "0     7679882.0  2400400.0  4882700.0  3.981820e+10  3.981820e+10   \n",
       "1     9213280.0  3081700.0  5381200.0  2.871000e+10  2.871000e+10   \n",
       "2    10400953.0  5141500.0  4463600.0  3.356064e+10  3.356064e+10   \n",
       "3    11727801.0  6159800.0  4634400.0  3.420112e+10  3.420112e+10   \n",
       "4    11049165.0  4244800.0  5013500.0  3.895500e+09  3.895500e+09   \n",
       "..          ...        ...        ...           ...           ...   \n",
       "243   8200572.0  3693100.0  3641900.0  2.901168e+10  5.386177e+10   \n",
       "244   7288890.0  2744300.0  3856100.0  5.270865e+10  3.078370e+10   \n",
       "245   5699110.0  1407000.0  3440100.0  3.225213e+10  5.421456e+10   \n",
       "246   5332029.0  1687900.0  3380000.0  1.390215e+09  1.690492e+10   \n",
       "247   6801445.0  2613800.0  3765700.0  5.933401e+10  5.059046e+10   \n",
       "\n",
       "               fn  \n",
       "0    0.000000e+00  \n",
       "1    0.000000e+00  \n",
       "2    0.000000e+00  \n",
       "3    0.000000e+00  \n",
       "4    0.000000e+00  \n",
       "..            ...  \n",
       "243 -2.485009e+10  \n",
       "244  2.192496e+10  \n",
       "245 -2.196243e+10  \n",
       "246 -1.551471e+10  \n",
       "247  8.743541e+09  \n",
       "\n",
       "[248 rows x 12 columns]"
      ]
     },
     "execution_count": 1,
     "metadata": {},
     "output_type": "execute_result"
    }
   ],
   "source": [
    "# Bảng biểu của tập dữ liệu\n",
    "import pandas as pd\n",
    "df = pd.read_csv(\"ACB.csv\")\n",
    "df"
   ]
  },
  {
   "cell_type": "code",
   "execution_count": 2,
   "id": "6e36a90c",
   "metadata": {},
   "outputs": [
    {
     "data": {
      "text/plain": [
       "0     2024-06-10\n",
       "1     2024-06-11\n",
       "2     2024-06-12\n",
       "3     2024-06-13\n",
       "4     2024-06-14\n",
       "         ...    \n",
       "243   2025-06-02\n",
       "244   2025-06-03\n",
       "245   2025-06-04\n",
       "246   2025-06-05\n",
       "247   2025-06-06\n",
       "Name: timestamp_datetime, Length: 248, dtype: datetime64[ns]"
      ]
     },
     "execution_count": 2,
     "metadata": {},
     "output_type": "execute_result"
    }
   ],
   "source": [
    "# Các ngày có trong tập dữ liệu\n",
    "df[\"timestamp_datetime\"] = pd.to_datetime(df[\"timestamp\"])\n",
    "df[\"timestamp_datetime\"].sort_values()"
   ]
  },
  {
   "cell_type": "code",
   "execution_count": 8,
   "id": "1cc795c1",
   "metadata": {},
   "outputs": [],
   "source": [
    "# Check xem tập dữ liệu có các giá trị bị trống không\n"
   ]
  },
  {
   "cell_type": "markdown",
   "id": "65b7b1b3",
   "metadata": {},
   "source": [
    "2. Tính % thay đổi giá đóng cửa hàng ngày\n",
    "\n",
    "Nhiệm vụ:\n",
    "\n",
    "Tính % thay đổi giá đóng cửa hàng ngày và show kết quả bằng biểu đồ."
   ]
  },
  {
   "cell_type": "code",
   "execution_count": 10,
   "id": "81aeb992",
   "metadata": {},
   "outputs": [
    {
     "data": {
      "text/html": [
       "<div>\n",
       "<style scoped>\n",
       "    .dataframe tbody tr th:only-of-type {\n",
       "        vertical-align: middle;\n",
       "    }\n",
       "\n",
       "    .dataframe tbody tr th {\n",
       "        vertical-align: top;\n",
       "    }\n",
       "\n",
       "    .dataframe thead th {\n",
       "        text-align: right;\n",
       "    }\n",
       "</style>\n",
       "<table border=\"1\" class=\"dataframe\">\n",
       "  <thead>\n",
       "    <tr style=\"text-align: right;\">\n",
       "      <th></th>\n",
       "      <th>ticker</th>\n",
       "      <th>timestamp</th>\n",
       "      <th>close</th>\n",
       "      <th>DailyPercentChange</th>\n",
       "    </tr>\n",
       "  </thead>\n",
       "  <tbody>\n",
       "    <tr>\n",
       "      <th>0</th>\n",
       "      <td>ACB</td>\n",
       "      <td>2024-06-10 00:00</td>\n",
       "      <td>20386.200</td>\n",
       "      <td>NaN</td>\n",
       "    </tr>\n",
       "    <tr>\n",
       "      <th>1</th>\n",
       "      <td>ACB</td>\n",
       "      <td>2024-06-11 00:00</td>\n",
       "      <td>20177.325</td>\n",
       "      <td>-0.010246</td>\n",
       "    </tr>\n",
       "    <tr>\n",
       "      <th>2</th>\n",
       "      <td>ACB</td>\n",
       "      <td>2024-06-12 00:00</td>\n",
       "      <td>20511.525</td>\n",
       "      <td>0.016563</td>\n",
       "    </tr>\n",
       "    <tr>\n",
       "      <th>3</th>\n",
       "      <td>ACB</td>\n",
       "      <td>2024-06-13 00:00</td>\n",
       "      <td>20720.400</td>\n",
       "      <td>0.010183</td>\n",
       "    </tr>\n",
       "    <tr>\n",
       "      <th>4</th>\n",
       "      <td>ACB</td>\n",
       "      <td>2024-06-14 00:00</td>\n",
       "      <td>20553.300</td>\n",
       "      <td>-0.008065</td>\n",
       "    </tr>\n",
       "    <tr>\n",
       "      <th>...</th>\n",
       "      <td>...</td>\n",
       "      <td>...</td>\n",
       "      <td>...</td>\n",
       "      <td>...</td>\n",
       "    </tr>\n",
       "    <tr>\n",
       "      <th>243</th>\n",
       "      <td>ACB</td>\n",
       "      <td>2025-06-02 00:00</td>\n",
       "      <td>21100.000</td>\n",
       "      <td>0.000000</td>\n",
       "    </tr>\n",
       "    <tr>\n",
       "      <th>244</th>\n",
       "      <td>ACB</td>\n",
       "      <td>2025-06-03 00:00</td>\n",
       "      <td>21250.000</td>\n",
       "      <td>0.007109</td>\n",
       "    </tr>\n",
       "    <tr>\n",
       "      <th>245</th>\n",
       "      <td>ACB</td>\n",
       "      <td>2025-06-04 00:00</td>\n",
       "      <td>21100.000</td>\n",
       "      <td>-0.007059</td>\n",
       "    </tr>\n",
       "    <tr>\n",
       "      <th>246</th>\n",
       "      <td>ACB</td>\n",
       "      <td>2025-06-05 00:00</td>\n",
       "      <td>21000.000</td>\n",
       "      <td>-0.004739</td>\n",
       "    </tr>\n",
       "    <tr>\n",
       "      <th>247</th>\n",
       "      <td>ACB</td>\n",
       "      <td>2025-06-06 00:00</td>\n",
       "      <td>21000.000</td>\n",
       "      <td>0.000000</td>\n",
       "    </tr>\n",
       "  </tbody>\n",
       "</table>\n",
       "<p>248 rows × 4 columns</p>\n",
       "</div>"
      ],
      "text/plain": [
       "    ticker         timestamp      close  DailyPercentChange\n",
       "0      ACB  2024-06-10 00:00  20386.200                 NaN\n",
       "1      ACB  2024-06-11 00:00  20177.325           -0.010246\n",
       "2      ACB  2024-06-12 00:00  20511.525            0.016563\n",
       "3      ACB  2024-06-13 00:00  20720.400            0.010183\n",
       "4      ACB  2024-06-14 00:00  20553.300           -0.008065\n",
       "..     ...               ...        ...                 ...\n",
       "243    ACB  2025-06-02 00:00  21100.000            0.000000\n",
       "244    ACB  2025-06-03 00:00  21250.000            0.007109\n",
       "245    ACB  2025-06-04 00:00  21100.000           -0.007059\n",
       "246    ACB  2025-06-05 00:00  21000.000           -0.004739\n",
       "247    ACB  2025-06-06 00:00  21000.000            0.000000\n",
       "\n",
       "[248 rows x 4 columns]"
      ]
     },
     "execution_count": 10,
     "metadata": {},
     "output_type": "execute_result"
    }
   ],
   "source": [
    "# Tính % thay đổi giá đóng cửa hàng ngày\n",
    "df[\"DailyPercentChange\"] = df[\"close\"] / df[\"close\"].shift(1) - 1\n",
    "df[[\"ticker\", \"timestamp\", \"close\", \"DailyPercentChange\"]]"
   ]
  },
  {
   "cell_type": "code",
   "execution_count": 3,
   "id": "3b929fed",
   "metadata": {},
   "outputs": [
    {
     "ename": "KeyError",
     "evalue": "'DailyPercentChange'",
     "output_type": "error",
     "traceback": [
      "\u001b[1;31m---------------------------------------------------------------------------\u001b[0m",
      "\u001b[1;31mKeyError\u001b[0m                                  Traceback (most recent call last)",
      "File \u001b[1;32m~\\anaconda3\\lib\\site-packages\\pandas\\core\\indexes\\base.py:3802\u001b[0m, in \u001b[0;36mIndex.get_loc\u001b[1;34m(self, key, method, tolerance)\u001b[0m\n\u001b[0;32m   3801\u001b[0m \u001b[38;5;28;01mtry\u001b[39;00m:\n\u001b[1;32m-> 3802\u001b[0m     \u001b[38;5;28;01mreturn\u001b[39;00m \u001b[38;5;28;43mself\u001b[39;49m\u001b[38;5;241;43m.\u001b[39;49m\u001b[43m_engine\u001b[49m\u001b[38;5;241;43m.\u001b[39;49m\u001b[43mget_loc\u001b[49m\u001b[43m(\u001b[49m\u001b[43mcasted_key\u001b[49m\u001b[43m)\u001b[49m\n\u001b[0;32m   3803\u001b[0m \u001b[38;5;28;01mexcept\u001b[39;00m \u001b[38;5;167;01mKeyError\u001b[39;00m \u001b[38;5;28;01mas\u001b[39;00m err:\n",
      "File \u001b[1;32m~\\anaconda3\\lib\\site-packages\\pandas\\_libs\\index.pyx:138\u001b[0m, in \u001b[0;36mpandas._libs.index.IndexEngine.get_loc\u001b[1;34m()\u001b[0m\n",
      "File \u001b[1;32m~\\anaconda3\\lib\\site-packages\\pandas\\_libs\\index.pyx:165\u001b[0m, in \u001b[0;36mpandas._libs.index.IndexEngine.get_loc\u001b[1;34m()\u001b[0m\n",
      "File \u001b[1;32mpandas\\_libs\\hashtable_class_helper.pxi:5745\u001b[0m, in \u001b[0;36mpandas._libs.hashtable.PyObjectHashTable.get_item\u001b[1;34m()\u001b[0m\n",
      "File \u001b[1;32mpandas\\_libs\\hashtable_class_helper.pxi:5753\u001b[0m, in \u001b[0;36mpandas._libs.hashtable.PyObjectHashTable.get_item\u001b[1;34m()\u001b[0m\n",
      "\u001b[1;31mKeyError\u001b[0m: 'DailyPercentChange'",
      "\nThe above exception was the direct cause of the following exception:\n",
      "\u001b[1;31mKeyError\u001b[0m                                  Traceback (most recent call last)",
      "Cell \u001b[1;32mIn[3], line 6\u001b[0m\n\u001b[0;32m      3\u001b[0m \u001b[38;5;28;01mimport\u001b[39;00m \u001b[38;5;21;01mmatplotlib\u001b[39;00m\u001b[38;5;21;01m.\u001b[39;00m\u001b[38;5;21;01mticker\u001b[39;00m \u001b[38;5;28;01mas\u001b[39;00m \u001b[38;5;21;01mmtick\u001b[39;00m\n\u001b[0;32m      5\u001b[0m plt\u001b[38;5;241m.\u001b[39mfigure(figsize\u001b[38;5;241m=\u001b[39m(\u001b[38;5;241m12\u001b[39m, \u001b[38;5;241m6\u001b[39m))\n\u001b[1;32m----> 6\u001b[0m plt\u001b[38;5;241m.\u001b[39mplot(df[\u001b[38;5;124m\"\u001b[39m\u001b[38;5;124mtimestamp_datetime\u001b[39m\u001b[38;5;124m\"\u001b[39m], \u001b[43mdf\u001b[49m\u001b[43m[\u001b[49m\u001b[38;5;124;43m\"\u001b[39;49m\u001b[38;5;124;43mDailyPercentChange\u001b[39;49m\u001b[38;5;124;43m\"\u001b[39;49m\u001b[43m]\u001b[49m, label\u001b[38;5;241m=\u001b[39m\u001b[38;5;124m\"\u001b[39m\u001b[38;5;124m%\u001b[39m\u001b[38;5;124m thay đổi hàng ngày\u001b[39m\u001b[38;5;124m\"\u001b[39m)\n\u001b[0;32m      7\u001b[0m plt\u001b[38;5;241m.\u001b[39mgca()\u001b[38;5;241m.\u001b[39myaxis\u001b[38;5;241m.\u001b[39mset_major_formatter(mtick\u001b[38;5;241m.\u001b[39mPercentFormatter(xmax\u001b[38;5;241m=\u001b[39m\u001b[38;5;241m1.0\u001b[39m))\n\u001b[0;32m      8\u001b[0m plt\u001b[38;5;241m.\u001b[39mxlabel(\u001b[38;5;124m\"\u001b[39m\u001b[38;5;124mNgày\u001b[39m\u001b[38;5;124m\"\u001b[39m)\n",
      "File \u001b[1;32m~\\anaconda3\\lib\\site-packages\\pandas\\core\\frame.py:3807\u001b[0m, in \u001b[0;36mDataFrame.__getitem__\u001b[1;34m(self, key)\u001b[0m\n\u001b[0;32m   3805\u001b[0m \u001b[38;5;28;01mif\u001b[39;00m \u001b[38;5;28mself\u001b[39m\u001b[38;5;241m.\u001b[39mcolumns\u001b[38;5;241m.\u001b[39mnlevels \u001b[38;5;241m>\u001b[39m \u001b[38;5;241m1\u001b[39m:\n\u001b[0;32m   3806\u001b[0m     \u001b[38;5;28;01mreturn\u001b[39;00m \u001b[38;5;28mself\u001b[39m\u001b[38;5;241m.\u001b[39m_getitem_multilevel(key)\n\u001b[1;32m-> 3807\u001b[0m indexer \u001b[38;5;241m=\u001b[39m \u001b[38;5;28;43mself\u001b[39;49m\u001b[38;5;241;43m.\u001b[39;49m\u001b[43mcolumns\u001b[49m\u001b[38;5;241;43m.\u001b[39;49m\u001b[43mget_loc\u001b[49m\u001b[43m(\u001b[49m\u001b[43mkey\u001b[49m\u001b[43m)\u001b[49m\n\u001b[0;32m   3808\u001b[0m \u001b[38;5;28;01mif\u001b[39;00m is_integer(indexer):\n\u001b[0;32m   3809\u001b[0m     indexer \u001b[38;5;241m=\u001b[39m [indexer]\n",
      "File \u001b[1;32m~\\anaconda3\\lib\\site-packages\\pandas\\core\\indexes\\base.py:3804\u001b[0m, in \u001b[0;36mIndex.get_loc\u001b[1;34m(self, key, method, tolerance)\u001b[0m\n\u001b[0;32m   3802\u001b[0m     \u001b[38;5;28;01mreturn\u001b[39;00m \u001b[38;5;28mself\u001b[39m\u001b[38;5;241m.\u001b[39m_engine\u001b[38;5;241m.\u001b[39mget_loc(casted_key)\n\u001b[0;32m   3803\u001b[0m \u001b[38;5;28;01mexcept\u001b[39;00m \u001b[38;5;167;01mKeyError\u001b[39;00m \u001b[38;5;28;01mas\u001b[39;00m err:\n\u001b[1;32m-> 3804\u001b[0m     \u001b[38;5;28;01mraise\u001b[39;00m \u001b[38;5;167;01mKeyError\u001b[39;00m(key) \u001b[38;5;28;01mfrom\u001b[39;00m \u001b[38;5;21;01merr\u001b[39;00m\n\u001b[0;32m   3805\u001b[0m \u001b[38;5;28;01mexcept\u001b[39;00m \u001b[38;5;167;01mTypeError\u001b[39;00m:\n\u001b[0;32m   3806\u001b[0m     \u001b[38;5;66;03m# If we have a listlike key, _check_indexing_error will raise\u001b[39;00m\n\u001b[0;32m   3807\u001b[0m     \u001b[38;5;66;03m#  InvalidIndexError. Otherwise we fall through and re-raise\u001b[39;00m\n\u001b[0;32m   3808\u001b[0m     \u001b[38;5;66;03m#  the TypeError.\u001b[39;00m\n\u001b[0;32m   3809\u001b[0m     \u001b[38;5;28mself\u001b[39m\u001b[38;5;241m.\u001b[39m_check_indexing_error(key)\n",
      "\u001b[1;31mKeyError\u001b[0m: 'DailyPercentChange'"
     ]
    },
    {
     "data": {
      "text/plain": [
       "<Figure size 1200x600 with 0 Axes>"
      ]
     },
     "metadata": {},
     "output_type": "display_data"
    }
   ],
   "source": [
    "# Vẽ biểu đồ\n",
    "import matplotlib.pyplot as plt\n",
    "import matplotlib.ticker as mtick\n",
    "\n",
    "plt.figure(figsize=(12, 6))\n",
    "plt.plot(df[\"timestamp_datetime\"], df[\"DailyPercentChange\"], label=\"% thay đổi hàng ngày\")\n",
    "plt.gca().yaxis.set_major_formatter(mtick.PercentFormatter(xmax=1.0))\n",
    "plt.xlabel(\"Ngày\")\n",
    "plt.ylabel(\"% thay đổi hàng ngày\")\n",
    "plt.title(\"Biểu đồ hiệu suất cổ phiếu ACB\")\n",
    "plt.grid(True)\n",
    "plt.legend()\n",
    "plt.tight_layout()\n",
    "plt.show()"
   ]
  },
  {
   "cell_type": "markdown",
   "id": "1afc45c2",
   "metadata": {},
   "source": [
    "3. Đường MA\n",
    "\n",
    "Nhiệm vụ:\n",
    "\n",
    "Tính toán đường trung bình động đơn giản (SMA) 5 ngày và 20 ngày của giá đóng cửa và thể hiện chúng trên biểu đồ."
   ]
  },
  {
   "cell_type": "code",
   "execution_count": 15,
   "id": "f4794429",
   "metadata": {},
   "outputs": [],
   "source": [
    "# Tính đường trung bình động đơn giản (SMA) 5 ngày và 20 ngày\n"
   ]
  },
  {
   "cell_type": "code",
   "execution_count": 16,
   "id": "ee119cd1",
   "metadata": {},
   "outputs": [],
   "source": [
    "# Vẽ biểu đồ\n"
   ]
  },
  {
   "cell_type": "markdown",
   "id": "6bfcf0c6",
   "metadata": {},
   "source": [
    "# Phần 2: Phân tích nâng cao"
   ]
  },
  {
   "cell_type": "markdown",
   "id": "a7f782c0",
   "metadata": {},
   "source": [
    "4. Phân tích biến động\n",
    "\n",
    "Nhiệm vụ:\n",
    "\n",
    "Tính toán và vẽ biểu đồ độ lệch chuẩn 10 ngày và 30 ngày (biến động) của biến động giá hàng ngày."
   ]
  },
  {
   "cell_type": "code",
   "execution_count": null,
   "id": "8a27ea8f",
   "metadata": {},
   "outputs": [],
   "source": []
  },
  {
   "cell_type": "markdown",
   "id": "857c749c",
   "metadata": {},
   "source": [
    "5. Phát hiện đột biến khối lượng\n",
    "\n",
    "Nhiệm vụ:\n",
    "\n",
    "Xác định 5 ngày có khối lượng cao bất thường hàng đầu (ví dụ: khối lượng gấp 2 lần khối lượng trượt trung bình của 20 ngày trước đó) và hiển thị chúng cùng với dữ liệu OHLCV tương ứng."
   ]
  },
  {
   "cell_type": "code",
   "execution_count": null,
   "id": "f002c7f5",
   "metadata": {},
   "outputs": [],
   "source": []
  },
  {
   "cell_type": "markdown",
   "id": "caecc9b1",
   "metadata": {},
   "source": [
    "6. Chiến lược Golden Cross\n",
    "\n",
    "Nhiệm vụ:\n",
    "\n",
    "Triển khai chiến lược golden cross sử dụng SMA 50 ngày và 200 ngày. Làm nổi bật tín hiệu mua (khi SMA 50 ngày vượt qua 200 ngày) và tín hiệu bán."
   ]
  },
  {
   "cell_type": "code",
   "execution_count": null,
   "id": "5ed7dd9e",
   "metadata": {},
   "outputs": [],
   "source": []
  },
  {
   "cell_type": "markdown",
   "id": "13b19dd4",
   "metadata": {},
   "source": [
    "7. Chỉ báo RSI\n",
    "\n",
    "Nhiệm vụ:\n",
    "\n",
    "Triển khai Chỉ số sức mạnh tương đối (RSI) với cửa sổ 14 ngày.\n",
    "\n",
    "Vẽ nó bên dưới biểu đồ giá\n",
    "\n",
    "Đánh dấu các vùng quá bán (<30) và quá mua (>70)"
   ]
  },
  {
   "cell_type": "code",
   "execution_count": null,
   "id": "dfed21c6",
   "metadata": {},
   "outputs": [],
   "source": []
  },
  {
   "cell_type": "markdown",
   "id": "b98e22db",
   "metadata": {},
   "source": [
    "# Phần 3: Phân tích kỹ thuật chuyên sâu"
   ]
  },
  {
   "cell_type": "markdown",
   "id": "052e2483",
   "metadata": {},
   "source": [
    "8. Phát hiện mẫu nến\n",
    "\n",
    "Nhiệm vụ:\n",
    "\n",
    "Triển khai một hàm để phát hiện các mẫu nến cơ bản như mẫu Doji, Hammer và Engulfing. Hiển thị ngày và đánh dấu chúng trên biểu đồ giá."
   ]
  },
  {
   "cell_type": "code",
   "execution_count": null,
   "id": "101c4037",
   "metadata": {},
   "outputs": [],
   "source": []
  },
  {
   "cell_type": "markdown",
   "id": "2ff64349",
   "metadata": {},
   "source": [
    "9. Kiểm tra ngược đơn giản của một chiến lược (Backtest)\n",
    "\n",
    "Nhiệm vụ:\n",
    "\n",
    "Kiểm tra ngược một chiến lược bằng cách sử dụng RSI và SMA giao nhau:\n",
    "\n",
    "- Mua khi RSI < 30 và giá > SMA 20 ngày\n",
    "\n",
    "- Bán khi RSI > 70 hoặc giá < SMA 20 ngày\n",
    "\n",
    "Hiển thị số liệu hiệu suất: tổng lợi nhuận, số giao dịch, tỷ lệ thắng."
   ]
  },
  {
   "cell_type": "code",
   "execution_count": null,
   "id": "4a87ac27",
   "metadata": {},
   "outputs": [],
   "source": []
  },
  {
   "cell_type": "markdown",
   "id": "efd6e2d6",
   "metadata": {},
   "source": [
    "10. Phát hiện bất thường với Isolation Forest\n",
    "\n",
    "Nhiệm vụ:\n",
    "\n",
    "Sử dụng thuật toán IsolationForest trên dữ liệu OHLCV và các chỉ báo kỹ thuật để phát hiện bất thường.\n",
    "\n",
    "- Làm nổi bật các bất thường trên biểu đồ chuỗi thời gian\n",
    "\n",
    "- Giải thích ngắn gọn các tính năng bạn đã sử dụng và lý do"
   ]
  },
  {
   "cell_type": "code",
   "execution_count": null,
   "id": "3bd0ea65",
   "metadata": {},
   "outputs": [],
   "source": []
  },
  {
   "cell_type": "markdown",
   "id": "c14971d1",
   "metadata": {},
   "source": [
    "# Phần 4: Đưa ra insight"
   ]
  },
  {
   "cell_type": "markdown",
   "id": "65429108",
   "metadata": {},
   "source": [
    "Phân tích hiệu suất của cổ phiếu trong 6 tháng qua bằng cách sử dụng các chỉ báo kỹ thuật đã làm kể trên.\n",
    "Bao gồm thông tin chi tiết từ những thay đổi về xu hướng, biến động và hành vi khối lượng."
   ]
  },
  {
   "cell_type": "markdown",
   "id": "779cdfab",
   "metadata": {},
   "source": [
    "Dựa trên phân tích trên của bạn, bạn sẽ khuyến nghị mua, nắm giữ hay bán cổ phiếu này ngày hôm nay?\n",
    "Hãy chứng minh câu trả lời của bạn bằng các tín hiệu và hình ảnh minh họa được hỗ trợ bởi dữ liệu mà bạn đã vẽ biểu đồ ở trên."
   ]
  },
  {
   "cell_type": "code",
   "execution_count": null,
   "id": "18a808b3",
   "metadata": {},
   "outputs": [],
   "source": []
  }
 ],
 "metadata": {
  "kernelspec": {
   "display_name": "Python 3 (ipykernel)",
   "language": "python",
   "name": "python3"
  },
  "language_info": {
   "codemirror_mode": {
    "name": "ipython",
    "version": 3
   },
   "file_extension": ".py",
   "mimetype": "text/x-python",
   "name": "python",
   "nbconvert_exporter": "python",
   "pygments_lexer": "ipython3",
   "version": "3.10.9"
  }
 },
 "nbformat": 4,
 "nbformat_minor": 5
}
